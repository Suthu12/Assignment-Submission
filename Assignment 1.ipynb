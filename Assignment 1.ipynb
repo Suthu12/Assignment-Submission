{
 "cells": [
  {
   "cell_type": "markdown",
   "metadata": {},
   "source": [
    "# Assignment 1\n",
    "### By: Sutharsan Kesavan"
   ]
  },
  {
   "cell_type": "markdown",
   "metadata": {},
   "source": [
    "***"
   ]
  },
  {
   "cell_type": "markdown",
   "metadata": {},
   "source": [
    "#### Question 1\n",
    "\n",
    "B. RAINBOW"
   ]
  },
  {
   "cell_type": "markdown",
   "metadata": {},
   "source": [
    "#### Question 2"
   ]
  },
  {
   "cell_type": "code",
   "execution_count": 3,
   "metadata": {},
   "outputs": [
    {
     "name": "stdout",
     "output_type": "stream",
     "text": [
      "LETS UPGRADE\n"
     ]
    }
   ],
   "source": [
    "print(\"LETS UPGRADE\")"
   ]
  },
  {
   "cell_type": "code",
   "execution_count": 126,
   "metadata": {},
   "outputs": [
    {
     "name": "stdout",
     "output_type": "stream",
     "text": [
      "LETS UPGRADE\n"
     ]
    }
   ],
   "source": [
    "s = \"lets upgrade\"\n",
    "print(s.upper())"
   ]
  },
  {
   "cell_type": "markdown",
   "metadata": {},
   "source": [
    "#### Question 3"
   ]
  },
  {
   "cell_type": "code",
   "execution_count": 10,
   "metadata": {},
   "outputs": [
    {
     "name": "stdin",
     "output_type": "stream",
     "text": [
      " 19\n",
      " 95\n"
     ]
    },
    {
     "name": "stdout",
     "output_type": "stream",
     "text": [
      "Profit\n"
     ]
    }
   ],
   "source": [
    "cost = int(input())\n",
    "sell = int(input())\n",
    "\n",
    "if sell>cost:\n",
    "    print(\"Profit\")\n",
    "elif sell < cost:\n",
    "    print(\"Loss\")\n",
    "else:\n",
    "    print(\"Neither\")"
   ]
  },
  {
   "cell_type": "markdown",
   "metadata": {},
   "source": [
    "#### Question 4"
   ]
  },
  {
   "cell_type": "code",
   "execution_count": 12,
   "metadata": {},
   "outputs": [
    {
     "name": "stdin",
     "output_type": "stream",
     "text": [
      " 18\n"
     ]
    },
    {
     "name": "stdout",
     "output_type": "stream",
     "text": [
      "1440\n"
     ]
    }
   ],
   "source": [
    "euro = int(input())\n",
    "print(euro*80)"
   ]
  },
  {
   "cell_type": "markdown",
   "metadata": {},
   "source": [
    "#### Question 5"
   ]
  },
  {
   "cell_type": "code",
   "execution_count": 15,
   "metadata": {},
   "outputs": [
    {
     "name": "stdin",
     "output_type": "stream",
     "text": [
      " 1\n",
      " 2\n",
      " 3\n",
      " 4\n",
      " 5\n",
      " 6\n",
      " 7\n",
      " 8\n",
      " 9\n",
      " 10\n"
     ]
    },
    {
     "name": "stdout",
     "output_type": "stream",
     "text": [
      "[2, 4, 6, 8, 10]\n"
     ]
    }
   ],
   "source": [
    "l = []\n",
    "for i in range(10):\n",
    "    temp = int(input())\n",
    "    if temp%2 == 0:\n",
    "        l.append(temp)\n",
    "        \n",
    "print(l)"
   ]
  },
  {
   "cell_type": "markdown",
   "metadata": {},
   "source": [
    "#### Question 6"
   ]
  },
  {
   "cell_type": "markdown",
   "metadata": {},
   "source": [
    "LIST COMPREHENSION"
   ]
  },
  {
   "cell_type": "code",
   "execution_count": 18,
   "metadata": {},
   "outputs": [
    {
     "name": "stdout",
     "output_type": "stream",
     "text": [
      "['car', 'van']\n"
     ]
    }
   ],
   "source": [
    "# get a new list which contains \"a\" in the previous list\n",
    "vehicles = [\"car\", \"van\", \"bus\", \"lorry\", \"truck\"]\n",
    "newlist = []\n",
    "\n",
    "newlist = [x for x in vehicles if \"a\" in x]\n",
    "\n",
    "print(newlist)"
   ]
  },
  {
   "cell_type": "code",
   "execution_count": 19,
   "metadata": {},
   "outputs": [
    {
     "name": "stdout",
     "output_type": "stream",
     "text": [
      "['van', 'bus', 'lorry', 'truck']\n"
     ]
    }
   ],
   "source": [
    "# get a new list without an element in the previous list\n",
    "newlist1 = [x for x in vehicles if x != \"car\"]\n",
    "print(newlist1)"
   ]
  },
  {
   "cell_type": "code",
   "execution_count": 20,
   "metadata": {},
   "outputs": [
    {
     "name": "stdout",
     "output_type": "stream",
     "text": [
      "['car', 'van', 'bus', 'lorry', 'truck']\n"
     ]
    }
   ],
   "source": [
    "# get all the elements in a new list\n",
    "newlist2 = [x for x in vehicles]\n",
    "print(newlist2)"
   ]
  },
  {
   "cell_type": "code",
   "execution_count": 21,
   "metadata": {},
   "outputs": [
    {
     "name": "stdout",
     "output_type": "stream",
     "text": [
      "[0, 1, 2, 3, 4]\n"
     ]
    }
   ],
   "source": [
    "# use the range() function to create an iterable:\n",
    "newlist3 = [x for x in range(5)]\n",
    "print(newlist3)"
   ]
  },
  {
   "cell_type": "code",
   "execution_count": 22,
   "metadata": {},
   "outputs": [
    {
     "name": "stdout",
     "output_type": "stream",
     "text": [
      "[0, 2, 4, 6, 8]\n"
     ]
    }
   ],
   "source": [
    "# accept only even numbers\n",
    "newlist4 = [x for x in range(10) if x%2 == 0]\n",
    "print(newlist4)"
   ]
  },
  {
   "cell_type": "code",
   "execution_count": 23,
   "metadata": {},
   "outputs": [
    {
     "name": "stdout",
     "output_type": "stream",
     "text": [
      "['CAR', 'VAN', 'BUS', 'LORRY', 'TRUCK']\n"
     ]
    }
   ],
   "source": [
    "# Set the values in the new list to upper case\n",
    "newlist5 = [x.upper() for x in vehicles]\n",
    "print(newlist5)"
   ]
  },
  {
   "cell_type": "code",
   "execution_count": 24,
   "metadata": {},
   "outputs": [
    {
     "name": "stdout",
     "output_type": "stream",
     "text": [
      "['Hello', 'Hello', 'Hello', 'Hello', 'Hello']\n"
     ]
    }
   ],
   "source": [
    "# Set all values in the new list to 'hello'\n",
    "newlist6 = [\"Hello\" for x in vehicles]\n",
    "print(newlist6)"
   ]
  },
  {
   "cell_type": "code",
   "execution_count": 25,
   "metadata": {},
   "outputs": [
    {
     "name": "stdout",
     "output_type": "stream",
     "text": [
      "['car', 'van', 'bus', 'aeroplane', 'truck']\n"
     ]
    }
   ],
   "source": [
    "# Return \"aeroplane\" instead of \"lorry\"\n",
    "newlist7 = [x if x != \"lorry\" else \"aeroplane\" for x in vehicles]\n",
    "print(newlist7)"
   ]
  },
  {
   "cell_type": "markdown",
   "metadata": {},
   "source": [
    "#### Question 7"
   ]
  },
  {
   "cell_type": "code",
   "execution_count": 28,
   "metadata": {},
   "outputs": [
    {
     "name": "stdin",
     "output_type": "stream",
     "text": [
      " 8\n"
     ]
    },
    {
     "name": "stdout",
     "output_type": "stream",
     "text": [
      "{1: 1, 2: 4, 3: 9, 4: 16, 5: 25, 6: 36, 7: 49, 8: 64}\n"
     ]
    }
   ],
   "source": [
    "n = int(input())\n",
    "\n",
    "dicts = {}\n",
    "for i in range(1,n+1):\n",
    "    dicts[i] = i*i\n",
    "        \n",
    "print(dicts)"
   ]
  },
  {
   "cell_type": "markdown",
   "metadata": {},
   "source": [
    "#### Question 8"
   ]
  },
  {
   "cell_type": "code",
   "execution_count": 57,
   "metadata": {},
   "outputs": [],
   "source": [
    "import numpy as np"
   ]
  },
  {
   "cell_type": "code",
   "execution_count": 59,
   "metadata": {},
   "outputs": [
    {
     "name": "stdin",
     "output_type": "stream",
     "text": [
      " 4\n",
      " UP 5\n",
      " DOWN 3\n",
      " LEFT 3\n",
      " RIGHT 2\n"
     ]
    },
    {
     "name": "stdout",
     "output_type": "stream",
     "text": [
      "2\n"
     ]
    }
   ],
   "source": [
    "ls = []\n",
    "no = int(input())\n",
    "for i in range(no):\n",
    "    tmp = input()\n",
    "    ls.append(tmp)\n",
    "    \n",
    "for i in ls:\n",
    "    m , n = map(str,i.split())\n",
    "    if m == \"UP\":\n",
    "        u = int(n)\n",
    "    elif m == \"DOWN\":\n",
    "        d = int(n)\n",
    "    elif m == \"RIGHT\":\n",
    "        r = int(n)\n",
    "    else:\n",
    "        l = int(n)\n",
    "    \n",
    "dist = round(np.sqrt((u-d)**2 + (l-r)**2))\n",
    "print(dist)"
   ]
  },
  {
   "cell_type": "markdown",
   "metadata": {},
   "source": [
    "#### Question 9"
   ]
  },
  {
   "cell_type": "code",
   "execution_count": 61,
   "metadata": {},
   "outputs": [
    {
     "data": {
      "text/plain": [
       "array([ 2,  5,  8, 11, 14, 17, 20, 23, 26, 29, 32, 35, 38, 41, 44, 47])"
      ]
     },
     "execution_count": 61,
     "metadata": {},
     "output_type": "execute_result"
    }
   ],
   "source": [
    "arr = np.arange(2,50,3)\n",
    "arr"
   ]
  },
  {
   "cell_type": "markdown",
   "metadata": {},
   "source": [
    "#### Question 10"
   ]
  },
  {
   "cell_type": "code",
   "execution_count": 94,
   "metadata": {},
   "outputs": [
    {
     "name": "stdout",
     "output_type": "stream",
     "text": [
      "Enter first set of 5 nubers: \n"
     ]
    },
    {
     "name": "stdin",
     "output_type": "stream",
     "text": [
      " 5\n",
      " 1\n",
      " 2\n",
      " 9\n",
      " 3\n"
     ]
    },
    {
     "name": "stdout",
     "output_type": "stream",
     "text": [
      "Enter second set of 5 nubers: \n"
     ]
    },
    {
     "name": "stdin",
     "output_type": "stream",
     "text": [
      " 15\n",
      " 12\n",
      " 19\n",
      " 16\n",
      " 21\n"
     ]
    },
    {
     "name": "stdout",
     "output_type": "stream",
     "text": [
      "Concatenated array: [ 5  1  2  9  3 15 12 19 16 21]\n",
      "Sorted Array:  [ 1  2  3  5  9 12 15 16 19 21]\n"
     ]
    }
   ],
   "source": [
    "a = []\n",
    "b = []\n",
    "print(\"Enter first set of 5 nubers: \")\n",
    "for i in range(5):\n",
    "    n = int(input())\n",
    "    a.append(n)\n",
    "    \n",
    "print(\"Enter second set of 5 nubers: \")\n",
    "for i in range(5):\n",
    "    m = int(input())\n",
    "    b.append(m)\n",
    "\n",
    "arr1 = np.array(a)\n",
    "arr2 = np.array(b)\n",
    "\n",
    "arr3 = np.concatenate([arr1,arr2])\n",
    "print(\"Concatenated array:\", arr3)\n",
    "arr3.sort()\n",
    "print(\"Sorted Array: \",arr3)"
   ]
  },
  {
   "cell_type": "markdown",
   "metadata": {},
   "source": [
    "#### Question 11"
   ]
  },
  {
   "cell_type": "code",
   "execution_count": 95,
   "metadata": {},
   "outputs": [],
   "source": [
    "def dimAndsize (arr):\n",
    "    print(\"Dimension of the array: \", arr.ndim)\n",
    "    print(\"Size of the array: \", arr.size)"
   ]
  },
  {
   "cell_type": "code",
   "execution_count": 97,
   "metadata": {},
   "outputs": [
    {
     "name": "stdout",
     "output_type": "stream",
     "text": [
      "Dimension of the array:  1\n",
      "Size of the array:  5\n"
     ]
    }
   ],
   "source": [
    "a = np.arange(5)\n",
    "dimAndsize(a)"
   ]
  },
  {
   "cell_type": "code",
   "execution_count": 98,
   "metadata": {},
   "outputs": [
    {
     "name": "stdout",
     "output_type": "stream",
     "text": [
      "Dimension of the array:  2\n",
      "Size of the array:  12\n"
     ]
    }
   ],
   "source": [
    "b = np.arange(12).reshape((3, 4))\n",
    "dimAndsize(b)"
   ]
  },
  {
   "cell_type": "code",
   "execution_count": 99,
   "metadata": {},
   "outputs": [
    {
     "name": "stdout",
     "output_type": "stream",
     "text": [
      "Dimension of the array:  3\n",
      "Size of the array:  24\n"
     ]
    }
   ],
   "source": [
    "c = np.arange(24).reshape((2, 3, 4))\n",
    "dimAndsize(c)"
   ]
  },
  {
   "cell_type": "markdown",
   "metadata": {},
   "source": [
    "#### Question 12"
   ]
  },
  {
   "cell_type": "code",
   "execution_count": 102,
   "metadata": {},
   "outputs": [
    {
     "name": "stdout",
     "output_type": "stream",
     "text": [
      "[1 2 3 4 5 6] Dimension : 1\n",
      "[[1 2 3 4 5 6]] Dimension : 2\n"
     ]
    }
   ],
   "source": [
    "# 1D array \n",
    "one_dim_arr = np.array([1, 2, 3, 4, 5, 6])\n",
    "\n",
    "# To convert to 2D array \n",
    "# we can use the np.newaxis to increase the dimesions in a array\n",
    "# Using np.newaxis will increase the dimensions of your array by one dimension when used once. \n",
    "# inserting a axis at the first index creates a row vector\n",
    "\n",
    "two_dim_arr = one_dim_arr[np.newaxis, :]\n",
    "\n",
    "print(one_dim_arr, \"Dimension :\",one_dim_arr.ndim)\n",
    "print(two_dim_arr, \"Dimension :\",two_dim_arr.ndim)"
   ]
  },
  {
   "cell_type": "code",
   "execution_count": 103,
   "metadata": {},
   "outputs": [
    {
     "name": "stdout",
     "output_type": "stream",
     "text": [
      "[1 2 3 4 5 6] Dimension : 1\n",
      "[[1]\n",
      " [2]\n",
      " [3]\n",
      " [4]\n",
      " [5]\n",
      " [6]] Dimension : 2\n"
     ]
    }
   ],
   "source": [
    "# for column vector, insert axis at the second index\n",
    "two_dim_arr = one_dim_arr[:,np.newaxis]\n",
    "\n",
    "print(one_dim_arr, \"Dimension :\",one_dim_arr.ndim)\n",
    "print(two_dim_arr, \"Dimension :\",two_dim_arr.ndim)"
   ]
  },
  {
   "cell_type": "code",
   "execution_count": 104,
   "metadata": {},
   "outputs": [
    {
     "name": "stdout",
     "output_type": "stream",
     "text": [
      "[1 2 3 4 5 6] Dimension : 1\n",
      "[[1 2 3 4 5 6]] Dimension : 2\n"
     ]
    }
   ],
   "source": [
    "# we can also expand an array by inserting a new axis at a specified position with np.expand_dims.\n",
    "two_dim_arr = np.expand_dims(one_dim_arr,axis = 0)\n",
    "\n",
    "print(one_dim_arr, \"Dimension :\",one_dim_arr.ndim)\n",
    "print(two_dim_arr, \"Dimension :\",two_dim_arr.ndim)"
   ]
  },
  {
   "cell_type": "code",
   "execution_count": 105,
   "metadata": {},
   "outputs": [
    {
     "name": "stdout",
     "output_type": "stream",
     "text": [
      "[1 2 3 4 5 6] Dimension : 1\n",
      "[[1]\n",
      " [2]\n",
      " [3]\n",
      " [4]\n",
      " [5]\n",
      " [6]] Dimension : 2\n"
     ]
    }
   ],
   "source": [
    "two_dim_arr = np.expand_dims(one_dim_arr,axis = 1)\n",
    "\n",
    "print(one_dim_arr, \"Dimension :\",one_dim_arr.ndim)\n",
    "print(two_dim_arr, \"Dimension :\",two_dim_arr.ndim)"
   ]
  },
  {
   "cell_type": "markdown",
   "metadata": {},
   "source": [
    "#### Question 13"
   ]
  },
  {
   "cell_type": "code",
   "execution_count": 117,
   "metadata": {},
   "outputs": [
    {
     "name": "stdout",
     "output_type": "stream",
     "text": [
      "Array 1: \n",
      "[[1 2]\n",
      " [3 4]]\n",
      "\n",
      "Array 2: \n",
      "[[10 11]\n",
      " [12 13]]\n"
     ]
    }
   ],
   "source": [
    "m = np.arange(1,5).reshape((2,2))\n",
    "n = np.arange(10,14).reshape((2,2))\n",
    "print(\"Array 1: \")\n",
    "print(m)\n",
    "print()\n",
    "print(\"Array 2: \")\n",
    "print(n)"
   ]
  },
  {
   "cell_type": "code",
   "execution_count": 118,
   "metadata": {},
   "outputs": [
    {
     "data": {
      "text/plain": [
       "array([[ 1,  2],\n",
       "       [ 3,  4],\n",
       "       [10, 11],\n",
       "       [12, 13]])"
      ]
     },
     "execution_count": 118,
     "metadata": {},
     "output_type": "execute_result"
    }
   ],
   "source": [
    "# vstack\n",
    "np.vstack((m,n))"
   ]
  },
  {
   "cell_type": "code",
   "execution_count": 119,
   "metadata": {},
   "outputs": [
    {
     "data": {
      "text/plain": [
       "array([[ 1,  2, 10, 11],\n",
       "       [ 3,  4, 12, 13]])"
      ]
     },
     "execution_count": 119,
     "metadata": {},
     "output_type": "execute_result"
    }
   ],
   "source": [
    "# hstack\n",
    "np.hstack((m,n))"
   ]
  },
  {
   "cell_type": "markdown",
   "metadata": {},
   "source": [
    "#### Question 14"
   ]
  },
  {
   "cell_type": "code",
   "execution_count": 122,
   "metadata": {},
   "outputs": [
    {
     "name": "stdout",
     "output_type": "stream",
     "text": [
      "Original Numpy Array :  [11 11 12 13 14 15 16 17 12 13 11 14 18]\n",
      "Unique Values :  [11 12 13 14 15 16 17 18]\n"
     ]
    }
   ],
   "source": [
    "# Get unique values in a numpy array\n",
    "arr = np.array([11, 11, 12, 13, 14, 15, 16, 17, 12, 13, 11, 14, 18])\n",
    "print('Original Numpy Array : ' , arr)\n",
    "\n",
    "# Get unique values from a numpy array\n",
    "uniqueValues = np.unique(arr)\n",
    "print('Unique Values : ',uniqueValues)"
   ]
  },
  {
   "cell_type": "code",
   "execution_count": 124,
   "metadata": {},
   "outputs": [
    {
     "name": "stdout",
     "output_type": "stream",
     "text": [
      "Original Numpy Array :  [11 11 12 13 14 15 16 17 12 13 11 14 18]\n",
      "Unique Values :  [11 12 13 14 15 16 17 18]\n",
      "Occurrence Count :  [3 2 2 2 1 1 1 1]\n"
     ]
    }
   ],
   "source": [
    "arr = np.array([11, 11, 12, 13, 14, 15, 16, 17, 12, 13, 11, 14, 18])\n",
    "print('Original Numpy Array : ' , arr)\n",
    "\n",
    "# Get a tuple of unique values & their frequency in numpy array\n",
    "uniqueValues, occurCount = np.unique(arr, return_counts=True)\n",
    "print(\"Unique Values : \" , uniqueValues)\n",
    "print(\"Occurrence Count : \", occurCount)"
   ]
  },
  {
   "cell_type": "code",
   "execution_count": 125,
   "metadata": {},
   "outputs": [
    {
     "name": "stdout",
     "output_type": "stream",
     "text": [
      "Original Numpy Array :  [11 11 12 13 14 15 16 17 12 13 11 14 18]\n",
      "Unique Values :  [11 12 13 14 15 16 17 18]\n",
      "No of Unique elements :  8\n"
     ]
    }
   ],
   "source": [
    "# Get unique values in a numpy array\n",
    "arr = np.array([11, 11, 12, 13, 14, 15, 16, 17, 12, 13, 11, 14, 18])\n",
    "print('Original Numpy Array : ' , arr)\n",
    "\n",
    "# Get unique values from a numpy array\n",
    "uniqueValues = np.unique(arr)\n",
    "print('Unique Values : ',uniqueValues)\n",
    "print('No of Unique elements : ',len(uniqueValues))"
   ]
  },
  {
   "cell_type": "code",
   "execution_count": null,
   "metadata": {},
   "outputs": [],
   "source": []
  }
 ],
 "metadata": {
  "kernelspec": {
   "display_name": "Python 3",
   "language": "python",
   "name": "python3"
  },
  "language_info": {
   "codemirror_mode": {
    "name": "ipython",
    "version": 3
   },
   "file_extension": ".py",
   "mimetype": "text/x-python",
   "name": "python",
   "nbconvert_exporter": "python",
   "pygments_lexer": "ipython3",
   "version": "3.8.5"
  }
 },
 "nbformat": 4,
 "nbformat_minor": 4
}
